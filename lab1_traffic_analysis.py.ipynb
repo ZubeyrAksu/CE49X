{
 "cells": [
  {
   "cell_type": "code",
   "execution_count": 3,
   "id": "3a5b4e40-0356-4b4f-adc6-d4076e27febf",
   "metadata": {},
   "outputs": [
    {
     "name": "stdout",
     "output_type": "stream",
     "text": [
      "Traffic Data Analysis:\n",
      "Minimum vehicle count: 260\n",
      "Maximum vehicle count: 660\n",
      "Mean vehicle count: 454.52\n"
     ]
    }
   ],
   "source": [
    "# lab1_traffic_analysis.py\n",
    "\n",
    "import pandas as pd\n",
    "\n",
    "def main():\n",
    "    # Load the traffic dataset\n",
    "    try:\n",
    "        df = pd.read_csv('../../datasets/traffic_data.csv')\n",
    "    except FileNotFoundError:\n",
    "        print(\"Error: The dataset file was not found. Please ensure 'traffic_data.csv' is located in the /datasets/ folder.\")\n",
    "        return\n",
    "\n",
    "    # Compute basic descriptive statistics for 'vehicle_count'\n",
    "    min_value = df['vehicle_count'].min()\n",
    "    max_value = df['vehicle_count'].max()\n",
    "    mean_value = df['vehicle_count'].mean()\n",
    "\n",
    "    # Print the results\n",
    "    print(\"Traffic Data Analysis:\")\n",
    "    print(f\"Minimum vehicle count: {min_value}\")\n",
    "    print(f\"Maximum vehicle count: {max_value}\")\n",
    "    print(f\"Mean vehicle count: {mean_value:.2f}\")\n",
    "\n",
    "if __name__ == '__main__':\n",
    "    main()"
   ]
  },
  {
   "cell_type": "code",
   "execution_count": null,
   "id": "aa744d21-3f9d-4ed0-b499-2ce88a2f1509",
   "metadata": {},
   "outputs": [],
   "source": []
  }
 ],
 "metadata": {
  "kernelspec": {
   "display_name": "Python [conda env:ce49x]",
   "language": "python",
   "name": "conda-env-ce49x-py"
  },
  "language_info": {
   "codemirror_mode": {
    "name": "ipython",
    "version": 3
   },
   "file_extension": ".py",
   "mimetype": "text/x-python",
   "name": "python",
   "nbconvert_exporter": "python",
   "pygments_lexer": "ipython3",
   "version": "3.10.16"
  }
 },
 "nbformat": 4,
 "nbformat_minor": 5
}
