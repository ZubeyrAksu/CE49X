{
 "cells": [
  {
   "cell_type": "code",
   "execution_count": 6,
   "id": "c4d3488d-0fda-48c5-8489-4bb5c01e1602",
   "metadata": {},
   "outputs": [
    {
     "name": "stdout",
     "output_type": "stream",
     "text": [
      "\n",
      "Statistics for 'soil_ph':\n",
      "Minimum: 6.00\n",
      "Maximum: 6.90\n",
      "Mean: 6.45\n",
      "Median: 6.45\n",
      "Standard Deviation: 0.29\n"
     ]
    }
   ],
   "source": [
    "import pandas as pd\n",
    "import numpy as np\n",
    "\n",
    "def load_data(file_path):\n",
    "    \"\"\"Load dataset and handle file not found error.\"\"\"\n",
    "    try:\n",
    "        df = pd.read_csv(file_path)\n",
    "        return df\n",
    "    except FileNotFoundError:\n",
    "        print(f\"Error: File '{file_path}' not found.\")\n",
    "        return None\n",
    "\n",
    "def clean_data(df):\n",
    "    \"\"\"Handle missing values by filling with column mean.\"\"\"\n",
    "    df.fillna(df.mean(numeric_only=True), inplace=True)\n",
    "    return df\n",
    "\n",
    "def compute_statistics(df, column):\n",
    "    \"\"\"Compute and print descriptive statistics for a given column.\"\"\"\n",
    "    if column not in df.columns:\n",
    "        print(f\"Error: Column '{column}' not found in dataset.\")\n",
    "        return\n",
    "\n",
    "    stats = {\n",
    "        \"Minimum\": df[column].min(),\n",
    "        \"Maximum\": df[column].max(),\n",
    "        \"Mean\": df[column].mean(),\n",
    "        \"Median\": df[column].median(),\n",
    "        \"Standard Deviation\": df[column].std()\n",
    "    }\n",
    "    \n",
    "    print(f\"\\nStatistics for '{column}':\")\n",
    "    for key, value in stats.items():\n",
    "        print(f\"{key}: {value:.2f}\")\n",
    "\n",
    "if __name__ == \"__main__\":\n",
    "    file_path = \"../../datasets/soil_test.csv\"  # Adjust path if needed\n",
    "    df = load_data(file_path)\n",
    "\n",
    "    if df is not None:\n",
    "        df = clean_data(df)\n",
    "        compute_statistics(df, \"soil_ph\")  # Ensure column exists\n"
   ]
  },
  {
   "cell_type": "code",
   "execution_count": null,
   "id": "9dd1b4ec-03fb-44cc-a308-05433ce1e5d9",
   "metadata": {},
   "outputs": [],
   "source": []
  }
 ],
 "metadata": {
  "kernelspec": {
   "display_name": "Python [conda env:ce49x]",
   "language": "python",
   "name": "conda-env-ce49x-py"
  },
  "language_info": {
   "codemirror_mode": {
    "name": "ipython",
    "version": 3
   },
   "file_extension": ".py",
   "mimetype": "text/x-python",
   "name": "python",
   "nbconvert_exporter": "python",
   "pygments_lexer": "ipython3",
   "version": "3.10.16"
  }
 },
 "nbformat": 4,
 "nbformat_minor": 5
}
